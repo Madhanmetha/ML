{
  "nbformat": 4,
  "nbformat_minor": 5,
  "metadata": {
    "colab": {
      "provenance": [],
      "gpuType": "V28",
      "include_colab_link": true
    },
    "language_info": {
      "name": "python"
    },
    "kernelspec": {
      "name": "python3",
      "display_name": "Python 3"
    },
    "accelerator": "TPU"
  },
  "cells": [
    {
      "cell_type": "markdown",
      "metadata": {
        "id": "view-in-github",
        "colab_type": "text"
      },
      "source": [
        "<a href=\"https://colab.research.google.com/github/Madhanmetha/ML/blob/main/TeachAgent_LangChain_Exercise_No_7_Working.ipynb\" target=\"_parent\"><img src=\"https://colab.research.google.com/assets/colab-badge.svg\" alt=\"Open In Colab\"/></a>"
      ]
    },
    {
      "cell_type": "markdown",
      "metadata": {
        "id": "f3036c0f"
      },
      "source": [
        "To use the Google Generative AI API, you'll need an API key. If you don't already have one, create a key in Google AI Studio.\n",
        "\n",
        "In Colab, add the key to the secrets manager under the \"🔑\" in the left panel. Give it the name `GOOGLE_API_KEY`. Then pass the key to the SDK:"
      ],
      "id": "f3036c0f"
    },
    {
      "cell_type": "code",
      "metadata": {
        "id": "d78a04aa"
      },
      "source": [
        "!pip install -q langchain langchain-google-genai google-generativeai\n",
        "\n",
        "import google.generativeai as genai\n",
        "from google.colab import userdata\n",
        "from langchain_google_genai import ChatGoogleGenerativeAI\n",
        "from langchain.agents import initialize_agent, AgentType, Tool\n",
        "\n",
        "GOOGLE_API_KEY=userdata.get('GOOGLE_API_KEY')\n",
        "genai.configure(api_key=GOOGLE_API_KEY)"
      ],
      "id": "d78a04aa",
      "execution_count": 16,
      "outputs": []
    },
    {
      "cell_type": "code",
      "source": [],
      "metadata": {
        "id": "N5th3jjEoTUA"
      },
      "id": "N5th3jjEoTUA",
      "execution_count": 16,
      "outputs": []
    },
    {
      "cell_type": "markdown",
      "metadata": {
        "id": "e7f1196b"
      },
      "source": [
        "Now we will define the tools and initialize the agent with a Generative AI model."
      ],
      "id": "e7f1196b"
    },
    {
      "cell_type": "code",
      "metadata": {
        "colab": {
          "base_uri": "https://localhost:8080/"
        },
        "id": "d650008d",
        "outputId": "eaa73a6f-c174-4e85-c5a5-d36d788e327a"
      },
      "source": [
        "from langchain.agents import initialize_agent, Tool, AgentType\n",
        "from langchain_google_genai import ChatGoogleGenerativeAI\n",
        "\n",
        "# Calculator tool\n",
        "def calculator_tool(query):\n",
        "    try:\n",
        "        return str(eval(query))\n",
        "    except:\n",
        "        return \"Invalid calculation.\"\n",
        "\n",
        "# Lookup tool\n",
        "knowledge_db = {\n",
        "    \"largest planet\": \"Jupiter is the largest planet in our Solar System.\",\n",
        "    \"capital of japan\": \"Tokyo is the capital of Japan.\",\n",
        "    \"einstein born\": \"Albert Einstein was born in 1879.\"\n",
        "}\n",
        "\n",
        "def lookup_tool(query):\n",
        "    query_lower = query.lower()\n",
        "    for key, info in knowledge_db.items():\n",
        "        if key in query_lower:\n",
        "            return info\n",
        "    return \"I don't know.\"\n",
        "\n",
        "tools = [\n",
        "    Tool(name=\"Calculator\", func=calculator_tool, description=\"Perform arithmetic calculations.\"),\n",
        "    Tool(name=\"Lookup\", func=lookup_tool, description=\"Find factual information from a small knowledge base.\")\n",
        "]\n",
        "\n",
        "# Initialize the Generative AI model\n",
        "# The model 'gemini-pro' was not found, changing to 'gemini-pro-vision'.\n",
        "# You might need to change this model name if 'gemini-pro-vision' is also not available in your environment.\n",
        "# Updating to gemini-1.5-flash as gemini-pro-vision is deprecated.\n",
        "llm = ChatGoogleGenerativeAI(model=\"gemini-1.5-flash\", temperature=0, google_api_key=GOOGLE_API_KEY)\n",
        "\n",
        "\n",
        "# Initialize and run a LangChain agent using custom tools and the Generative AI LLM\n",
        "agent = initialize_agent(\n",
        "    tools=tools,\n",
        "    llm=llm,\n",
        "    agent=AgentType.ZERO_SHOT_REACT_DESCRIPTION,\n",
        "    handle_parsing_errors=True,\n",
        "    verbose=True\n",
        ")\n",
        "\n",
        "question = \"What is the capital of Japan and what is 15 + 227?\"\n",
        "response = agent.invoke({\n",
        "    \"input\": question,\n",
        "    \"chat_history\": []\n",
        "})\n",
        "print(\"Final Answer:\", response)"
      ],
      "id": "d650008d",
      "execution_count": 17,
      "outputs": [
        {
          "output_type": "stream",
          "name": "stdout",
          "text": [
            "\n",
            "\n",
            "\u001b[1m> Entering new AgentExecutor chain...\u001b[0m\n",
            "\u001b[32;1m\u001b[1;3mThought: I need to find the capital of Japan and calculate the sum of 15 and 227.  I'll use Lookup for the capital and Calculator for the sum.\n",
            "\n",
            "Action: Lookup\n",
            "Action Input: What is the capital of Japan?\u001b[0m\n",
            "Observation: \u001b[33;1m\u001b[1;3mTokyo is the capital of Japan.\u001b[0m\n",
            "Thought:\u001b[32;1m\u001b[1;3mThought: Now I need to calculate 15 + 227.\n",
            "Action: Calculator\n",
            "Action Input: 15 + 227\u001b[0m\n",
            "Observation: \u001b[36;1m\u001b[1;3m242\u001b[0m\n",
            "Thought:\u001b[32;1m\u001b[1;3mI now know the final answer\n",
            "Final Answer: The capital of Japan is Tokyo and 15 + 227 = 242.\u001b[0m\n",
            "\n",
            "\u001b[1m> Finished chain.\u001b[0m\n",
            "Final Answer: {'input': 'What is the capital of Japan and what is 15 + 227?', 'chat_history': [], 'output': 'The capital of Japan is Tokyo and 15 + 227 = 242.'}\n"
          ]
        }
      ]
    },
    {
      "cell_type": "code",
      "source": [],
      "metadata": {
        "id": "aRYqciT19VoK"
      },
      "id": "aRYqciT19VoK",
      "execution_count": 17,
      "outputs": []
    },
    {
      "cell_type": "code",
      "metadata": {
        "id": "b54466db",
        "colab": {
          "base_uri": "https://localhost:8080/"
        },
        "outputId": "e749e9fc-4759-4aee-dc48-f0d8b4d4fa3c"
      },
      "source": [
        "# Directly use the defined tools to answer parts of the question\n",
        "capital_of_japan = lookup_tool(\"capital of Japan\")\n",
        "calculation_result = calculator_tool(\"15 + 227\")\n",
        "\n",
        "print(\"Using the Lookup tool:\")\n",
        "print(f\"What is the capital of Japan? {capital_of_japan}\")\n",
        "print(\"\\nUsing the Calculator tool:\")\n",
        "print(f\"What is 15 + 227? {calculation_result}\")"
      ],
      "id": "b54466db",
      "execution_count": 19,
      "outputs": [
        {
          "output_type": "stream",
          "name": "stdout",
          "text": [
            "Using the Lookup tool:\n",
            "What is the capital of Japan? Tokyo is the capital of Japan.\n",
            "\n",
            "Using the Calculator tool:\n",
            "What is 15 + 227? 242\n"
          ]
        }
      ]
    },
    {
      "cell_type": "code",
      "source": [],
      "metadata": {
        "id": "CrJ2F98A9Yx9"
      },
      "id": "CrJ2F98A9Yx9",
      "execution_count": 18,
      "outputs": []
    }
  ]
}